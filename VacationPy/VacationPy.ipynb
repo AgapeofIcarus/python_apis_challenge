{
 "cells": [
  {
   "cell_type": "markdown",
   "metadata": {
    "deletable": true,
    "editable": true
   },
   "source": [
    "# VacationPy"
   ]
  },
  {
   "cell_type": "code",
   "execution_count": 1,
   "metadata": {
    "collapsed": false,
    "deletable": true,
    "editable": true
   },
   "outputs": [],
   "source": [
    "# Dependencies and Setup\n",
    "import matplotlib.pyplot as plt\n",
    "import pandas as pd\n",
    "import numpy as np\n",
    "import requests\n",
    "import gmaps\n",
    "import os\n",
    "import csv\n",
    "\n",
    "# Import API key\n",
    "from api_key import g_key"
   ]
  },
  {
   "cell_type": "markdown",
   "metadata": {
    "deletable": true,
    "editable": true
   },
   "source": [
    "### Store Part I results into DataFrame"
   ]
  },
  {
   "cell_type": "code",
   "execution_count": 14,
   "metadata": {
    "collapsed": false,
    "deletable": true,
    "editable": true
   },
   "outputs": [
    {
     "data": {
      "text/html": [
       "<div>\n",
       "<style scoped>\n",
       "    .dataframe tbody tr th:only-of-type {\n",
       "        vertical-align: middle;\n",
       "    }\n",
       "\n",
       "    .dataframe tbody tr th {\n",
       "        vertical-align: top;\n",
       "    }\n",
       "\n",
       "    .dataframe thead th {\n",
       "        text-align: right;\n",
       "    }\n",
       "</style>\n",
       "<table border=\"1\" class=\"dataframe\">\n",
       "  <thead>\n",
       "    <tr style=\"text-align: right;\">\n",
       "      <th></th>\n",
       "      <th>City</th>\n",
       "      <th>Lat</th>\n",
       "      <th>Lon</th>\n",
       "      <th>Maximum Temp</th>\n",
       "      <th>Humidity</th>\n",
       "      <th>Cloudiness</th>\n",
       "      <th>Wind</th>\n",
       "      <th>Country</th>\n",
       "      <th>Date</th>\n",
       "    </tr>\n",
       "  </thead>\n",
       "  <tbody>\n",
       "    <tr>\n",
       "      <th>0</th>\n",
       "      <td>ushuaia</td>\n",
       "      <td>-54.8000</td>\n",
       "      <td>-68.3000</td>\n",
       "      <td>51.80</td>\n",
       "      <td>76</td>\n",
       "      <td>40</td>\n",
       "      <td>18.41</td>\n",
       "      <td>AR</td>\n",
       "      <td>1612657769</td>\n",
       "    </tr>\n",
       "    <tr>\n",
       "      <th>1</th>\n",
       "      <td>husavik</td>\n",
       "      <td>66.0449</td>\n",
       "      <td>-17.3389</td>\n",
       "      <td>32.00</td>\n",
       "      <td>74</td>\n",
       "      <td>75</td>\n",
       "      <td>3.44</td>\n",
       "      <td>IS</td>\n",
       "      <td>1612657742</td>\n",
       "    </tr>\n",
       "    <tr>\n",
       "      <th>2</th>\n",
       "      <td>saint-philippe</td>\n",
       "      <td>-21.3585</td>\n",
       "      <td>55.7679</td>\n",
       "      <td>78.80</td>\n",
       "      <td>73</td>\n",
       "      <td>75</td>\n",
       "      <td>6.91</td>\n",
       "      <td>RE</td>\n",
       "      <td>1612657769</td>\n",
       "    </tr>\n",
       "    <tr>\n",
       "      <th>3</th>\n",
       "      <td>rikitea</td>\n",
       "      <td>-23.1203</td>\n",
       "      <td>-134.9692</td>\n",
       "      <td>78.67</td>\n",
       "      <td>69</td>\n",
       "      <td>100</td>\n",
       "      <td>9.84</td>\n",
       "      <td>PF</td>\n",
       "      <td>1612657769</td>\n",
       "    </tr>\n",
       "    <tr>\n",
       "      <th>4</th>\n",
       "      <td>pitimbu</td>\n",
       "      <td>-7.4706</td>\n",
       "      <td>-34.8086</td>\n",
       "      <td>78.80</td>\n",
       "      <td>83</td>\n",
       "      <td>20</td>\n",
       "      <td>4.61</td>\n",
       "      <td>BR</td>\n",
       "      <td>1612657770</td>\n",
       "    </tr>\n",
       "    <tr>\n",
       "      <th>...</th>\n",
       "      <td>...</td>\n",
       "      <td>...</td>\n",
       "      <td>...</td>\n",
       "      <td>...</td>\n",
       "      <td>...</td>\n",
       "      <td>...</td>\n",
       "      <td>...</td>\n",
       "      <td>...</td>\n",
       "      <td>...</td>\n",
       "    </tr>\n",
       "    <tr>\n",
       "      <th>558</th>\n",
       "      <td>taree</td>\n",
       "      <td>-31.9000</td>\n",
       "      <td>152.4667</td>\n",
       "      <td>80.60</td>\n",
       "      <td>65</td>\n",
       "      <td>40</td>\n",
       "      <td>10.36</td>\n",
       "      <td>AU</td>\n",
       "      <td>1612657862</td>\n",
       "    </tr>\n",
       "    <tr>\n",
       "      <th>559</th>\n",
       "      <td>ipoti</td>\n",
       "      <td>7.8738</td>\n",
       "      <td>5.0769</td>\n",
       "      <td>70.00</td>\n",
       "      <td>48</td>\n",
       "      <td>100</td>\n",
       "      <td>3.53</td>\n",
       "      <td>NG</td>\n",
       "      <td>1612657862</td>\n",
       "    </tr>\n",
       "    <tr>\n",
       "      <th>560</th>\n",
       "      <td>inuvik</td>\n",
       "      <td>68.3499</td>\n",
       "      <td>-133.7218</td>\n",
       "      <td>-18.40</td>\n",
       "      <td>76</td>\n",
       "      <td>100</td>\n",
       "      <td>4.61</td>\n",
       "      <td>CA</td>\n",
       "      <td>1612657862</td>\n",
       "    </tr>\n",
       "    <tr>\n",
       "      <th>561</th>\n",
       "      <td>adrasmon</td>\n",
       "      <td>40.6472</td>\n",
       "      <td>69.9856</td>\n",
       "      <td>46.40</td>\n",
       "      <td>66</td>\n",
       "      <td>40</td>\n",
       "      <td>17.90</td>\n",
       "      <td>TJ</td>\n",
       "      <td>1612657862</td>\n",
       "    </tr>\n",
       "    <tr>\n",
       "      <th>562</th>\n",
       "      <td>ca mau</td>\n",
       "      <td>9.1769</td>\n",
       "      <td>105.1500</td>\n",
       "      <td>78.42</td>\n",
       "      <td>74</td>\n",
       "      <td>100</td>\n",
       "      <td>5.21</td>\n",
       "      <td>VN</td>\n",
       "      <td>1612657811</td>\n",
       "    </tr>\n",
       "  </tbody>\n",
       "</table>\n",
       "<p>563 rows × 9 columns</p>\n",
       "</div>"
      ],
      "text/plain": [
       "               City      Lat       Lon  Maximum Temp  Humidity  Cloudiness  \\\n",
       "0           ushuaia -54.8000  -68.3000         51.80        76          40   \n",
       "1           husavik  66.0449  -17.3389         32.00        74          75   \n",
       "2    saint-philippe -21.3585   55.7679         78.80        73          75   \n",
       "3           rikitea -23.1203 -134.9692         78.67        69         100   \n",
       "4           pitimbu  -7.4706  -34.8086         78.80        83          20   \n",
       "..              ...      ...       ...           ...       ...         ...   \n",
       "558           taree -31.9000  152.4667         80.60        65          40   \n",
       "559           ipoti   7.8738    5.0769         70.00        48         100   \n",
       "560          inuvik  68.3499 -133.7218        -18.40        76         100   \n",
       "561        adrasmon  40.6472   69.9856         46.40        66          40   \n",
       "562          ca mau   9.1769  105.1500         78.42        74         100   \n",
       "\n",
       "      Wind Country        Date  \n",
       "0    18.41      AR  1612657769  \n",
       "1     3.44      IS  1612657742  \n",
       "2     6.91      RE  1612657769  \n",
       "3     9.84      PF  1612657769  \n",
       "4     4.61      BR  1612657770  \n",
       "..     ...     ...         ...  \n",
       "558  10.36      AU  1612657862  \n",
       "559   3.53      NG  1612657862  \n",
       "560   4.61      CA  1612657862  \n",
       "561  17.90      TJ  1612657862  \n",
       "562   5.21      VN  1612657811  \n",
       "\n",
       "[563 rows x 9 columns]"
      ]
     },
     "execution_count": 14,
     "metadata": {},
     "output_type": "execute_result"
    }
   ],
   "source": [
    "#import csv and print dataframe\n",
    "weather_data = pd.read_csv(\"..\\Output\\weather_data.csv\")\n",
    "weather_data"
   ]
  },
  {
   "cell_type": "markdown",
   "metadata": {
    "deletable": true,
    "editable": true
   },
   "source": [
    "### Humidity Heatmap\n",
    "* Configure gmaps.\n",
    "* Use the Lat and Lng as locations and Humidity as the weight.\n",
    "* Add Heatmap layer to map."
   ]
  },
  {
   "cell_type": "code",
   "execution_count": 7,
   "metadata": {
    "collapsed": false,
    "deletable": true,
    "editable": true
   },
   "outputs": [],
   "source": [
    "#configure gmaps\n",
    "gmaps.configure(api_key=g_key)\n",
    "\n",
    "#create call list for locations and humidity\n",
    "coordinates = weather_data[[\"Lat\", \"Lon\"]].astype(float)\n",
    "humidity = weather_data[\"Humidity\"].astype(float)"
   ]
  },
  {
   "cell_type": "code",
   "execution_count": 8,
   "metadata": {
    "collapsed": false,
    "deletable": true,
    "editable": true
   },
   "outputs": [
    {
     "data": {
      "application/vnd.jupyter.widget-view+json": {
       "model_id": "7a6ac25104504d83bf352166b11407e1",
       "version_major": 2,
       "version_minor": 0
      },
      "text/plain": [
       "Figure(layout=FigureLayout(height='420px'))"
      ]
     },
     "metadata": {},
     "output_type": "display_data"
    }
   ],
   "source": [
    "#Create gmap and add heat layer.\n",
    "fig = gmaps.figure()\n",
    "heat_layer = gmaps.heatmap_layer(coordinates, weights=humidity, \n",
    "                                 dissipating=False, max_intensity=100,\n",
    "                                 point_radius = 1)\n",
    "\n",
    "fig.add_layer(heat_layer)\n",
    "\n",
    "fig"
   ]
  },
  {
   "cell_type": "markdown",
   "metadata": {
    "deletable": true,
    "editable": true
   },
   "source": [
    "### Create new DataFrame fitting weather criteria\n",
    "* Narrow down the cities to fit weather conditions.\n",
    "* Drop any rows will null values."
   ]
  },
  {
   "cell_type": "code",
   "execution_count": 16,
   "metadata": {
    "collapsed": false,
    "deletable": true,
    "editable": true
   },
   "outputs": [
    {
     "data": {
      "text/html": [
       "<div>\n",
       "<style scoped>\n",
       "    .dataframe tbody tr th:only-of-type {\n",
       "        vertical-align: middle;\n",
       "    }\n",
       "\n",
       "    .dataframe tbody tr th {\n",
       "        vertical-align: top;\n",
       "    }\n",
       "\n",
       "    .dataframe thead th {\n",
       "        text-align: right;\n",
       "    }\n",
       "</style>\n",
       "<table border=\"1\" class=\"dataframe\">\n",
       "  <thead>\n",
       "    <tr style=\"text-align: right;\">\n",
       "      <th></th>\n",
       "      <th>Lat</th>\n",
       "      <th>Lon</th>\n",
       "      <th>Maximum Temp</th>\n",
       "      <th>Humidity</th>\n",
       "      <th>Cloudiness</th>\n",
       "      <th>Wind</th>\n",
       "      <th>Date</th>\n",
       "    </tr>\n",
       "  </thead>\n",
       "  <tbody>\n",
       "    <tr>\n",
       "      <th>count</th>\n",
       "      <td>138.000000</td>\n",
       "      <td>138.000000</td>\n",
       "      <td>138.000000</td>\n",
       "      <td>138.000000</td>\n",
       "      <td>138.000000</td>\n",
       "      <td>138.000000</td>\n",
       "      <td>1.380000e+02</td>\n",
       "    </tr>\n",
       "    <tr>\n",
       "      <th>mean</th>\n",
       "      <td>-7.166787</td>\n",
       "      <td>17.647593</td>\n",
       "      <td>68.361014</td>\n",
       "      <td>71.268116</td>\n",
       "      <td>47.130435</td>\n",
       "      <td>6.925870</td>\n",
       "      <td>1.612658e+09</td>\n",
       "    </tr>\n",
       "    <tr>\n",
       "      <th>std</th>\n",
       "      <td>24.979893</td>\n",
       "      <td>82.385051</td>\n",
       "      <td>4.218176</td>\n",
       "      <td>23.240582</td>\n",
       "      <td>40.821103</td>\n",
       "      <td>4.928673</td>\n",
       "      <td>8.360894e+01</td>\n",
       "    </tr>\n",
       "    <tr>\n",
       "      <th>min</th>\n",
       "      <td>-46.600000</td>\n",
       "      <td>-159.319000</td>\n",
       "      <td>60.010000</td>\n",
       "      <td>5.000000</td>\n",
       "      <td>0.000000</td>\n",
       "      <td>0.870000</td>\n",
       "      <td>1.612658e+09</td>\n",
       "    </tr>\n",
       "    <tr>\n",
       "      <th>25%</th>\n",
       "      <td>-31.711600</td>\n",
       "      <td>-50.489100</td>\n",
       "      <td>64.990000</td>\n",
       "      <td>61.000000</td>\n",
       "      <td>2.000000</td>\n",
       "      <td>3.117500</td>\n",
       "      <td>1.612658e+09</td>\n",
       "    </tr>\n",
       "    <tr>\n",
       "      <th>50%</th>\n",
       "      <td>-9.063300</td>\n",
       "      <td>18.828850</td>\n",
       "      <td>69.405000</td>\n",
       "      <td>77.000000</td>\n",
       "      <td>41.500000</td>\n",
       "      <td>5.750000</td>\n",
       "      <td>1.612658e+09</td>\n",
       "    </tr>\n",
       "    <tr>\n",
       "      <th>75%</th>\n",
       "      <td>15.387875</td>\n",
       "      <td>68.746450</td>\n",
       "      <td>71.600000</td>\n",
       "      <td>89.000000</td>\n",
       "      <td>90.000000</td>\n",
       "      <td>10.007500</td>\n",
       "      <td>1.612658e+09</td>\n",
       "    </tr>\n",
       "    <tr>\n",
       "      <th>max</th>\n",
       "      <td>38.516700</td>\n",
       "      <td>176.166700</td>\n",
       "      <td>74.930000</td>\n",
       "      <td>100.000000</td>\n",
       "      <td>100.000000</td>\n",
       "      <td>22.120000</td>\n",
       "      <td>1.612658e+09</td>\n",
       "    </tr>\n",
       "  </tbody>\n",
       "</table>\n",
       "</div>"
      ],
      "text/plain": [
       "              Lat         Lon  Maximum Temp    Humidity  Cloudiness  \\\n",
       "count  138.000000  138.000000    138.000000  138.000000  138.000000   \n",
       "mean    -7.166787   17.647593     68.361014   71.268116   47.130435   \n",
       "std     24.979893   82.385051      4.218176   23.240582   40.821103   \n",
       "min    -46.600000 -159.319000     60.010000    5.000000    0.000000   \n",
       "25%    -31.711600  -50.489100     64.990000   61.000000    2.000000   \n",
       "50%     -9.063300   18.828850     69.405000   77.000000   41.500000   \n",
       "75%     15.387875   68.746450     71.600000   89.000000   90.000000   \n",
       "max     38.516700  176.166700     74.930000  100.000000  100.000000   \n",
       "\n",
       "             Wind          Date  \n",
       "count  138.000000  1.380000e+02  \n",
       "mean     6.925870  1.612658e+09  \n",
       "std      4.928673  8.360894e+01  \n",
       "min      0.870000  1.612658e+09  \n",
       "25%      3.117500  1.612658e+09  \n",
       "50%      5.750000  1.612658e+09  \n",
       "75%     10.007500  1.612658e+09  \n",
       "max     22.120000  1.612658e+09  "
      ]
     },
     "execution_count": 16,
     "metadata": {},
     "output_type": "execute_result"
    }
   ],
   "source": [
    "#Update dataframe to fit user preferences.\n",
    "updated_weather = weather_data.loc[(\n",
    "    weather_data[\"Maximum Temp\"] > 60)]\n",
    "updated_weather = updated_weather.loc[(\n",
    "    updated_weather[\"Maximum Temp\"] < 75)]\n",
    "\n",
    "#Use describe to see how many rows we now have, in case we need to reduce the list further.\n",
    "updated_weather.describe()"
   ]
  },
  {
   "cell_type": "markdown",
   "metadata": {
    "deletable": true,
    "editable": true
   },
   "source": [
    "### Hotel Map\n",
    "* Store into variable named `hotel_df`.\n",
    "* Add a \"Hotel Name\" column to the DataFrame.\n",
    "* Set parameters to search for hotels with 5000 meters.\n",
    "* Hit the Google Places API for each city's coordinates.\n",
    "* Store the first Hotel result into the DataFrame.\n",
    "* Plot markers on top of the heatmap."
   ]
  },
  {
   "cell_type": "code",
   "execution_count": null,
   "metadata": {
    "collapsed": true,
    "deletable": true,
    "editable": true
   },
   "outputs": [],
   "source": [
    "\n",
    "#updated_weather.insert(2, \"Hotel\", [], True) "
   ]
  },
  {
   "cell_type": "code",
   "execution_count": null,
   "metadata": {
    "collapsed": true,
    "deletable": true,
    "editable": true
   },
   "outputs": [],
   "source": []
  },
  {
   "cell_type": "code",
   "execution_count": null,
   "metadata": {
    "collapsed": false,
    "deletable": true,
    "editable": true
   },
   "outputs": [],
   "source": [
    "# NOTE: Do not change any of the code in this cell\n",
    "\n",
    "# Using the template add the hotel marks to the heatmap\n",
    "info_box_template = \"\"\"\n",
    "<dl>\n",
    "<dt>Name</dt><dd>{Hotel Name}</dd>\n",
    "<dt>City</dt><dd>{City}</dd>\n",
    "<dt>Country</dt><dd>{Country}</dd>\n",
    "</dl>\n",
    "\"\"\"\n",
    "# Store the DataFrame Row\n",
    "# NOTE: be sure to update with your DataFrame name\n",
    "hotel_info = [info_box_template.format(**row) for index, row in hotel_df.iterrows()]\n",
    "locations = hotel_df[[\"Lat\", \"Lng\"]]"
   ]
  },
  {
   "cell_type": "code",
   "execution_count": null,
   "metadata": {
    "collapsed": true,
    "deletable": true,
    "editable": true
   },
   "outputs": [],
   "source": [
    "# Add marker layer ontop of heat map\n",
    "\n",
    "\n",
    "# Display figure\n"
   ]
  },
  {
   "cell_type": "code",
   "execution_count": null,
   "metadata": {
    "collapsed": true,
    "deletable": true,
    "editable": true
   },
   "outputs": [],
   "source": []
  }
 ],
 "metadata": {
  "kernelspec": {
   "display_name": "PythonData",
   "language": "python",
   "name": "pythondata"
  },
  "language_info": {
   "codemirror_mode": {
    "name": "ipython",
    "version": 3
   },
   "file_extension": ".py",
   "mimetype": "text/x-python",
   "name": "python",
   "nbconvert_exporter": "python",
   "pygments_lexer": "ipython3",
   "version": "3.6.10"
  },
  "latex_envs": {
   "LaTeX_envs_menu_present": true,
   "autoclose": false,
   "autocomplete": true,
   "bibliofile": "biblio.bib",
   "cite_by": "apalike",
   "current_citInitial": 1,
   "eqLabelWithNumbers": true,
   "eqNumInitial": 1,
   "hotkeys": {
    "equation": "Ctrl-E",
    "itemize": "Ctrl-I"
   },
   "labels_anchors": false,
   "latex_user_defs": false,
   "report_style_numbering": false,
   "user_envs_cfg": false
  }
 },
 "nbformat": 4,
 "nbformat_minor": 4
}
