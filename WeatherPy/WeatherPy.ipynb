{
 "cells": [
  {
   "cell_type": "markdown",
   "metadata": {
    "deletable": true,
    "editable": true
   },
   "source": [
    "# WeatherPy\n",
    "----\n",
    "\n",
    "#### Note\n",
    "* Instructions have been included for each segment. You do not have to follow them exactly, but they are included to help you think through the steps."
   ]
  },
  {
   "cell_type": "code",
   "execution_count": 2,
   "metadata": {
    "collapsed": false,
    "deletable": true,
    "editable": true,
    "scrolled": true
   },
   "outputs": [],
   "source": [
    "# Dependencies and Setup\n",
    "import matplotlib.pyplot as plt\n",
    "import pandas as pd\n",
    "import numpy as np\n",
    "import requests\n",
    "import time\n",
    "import urllib.request,urllib.parse,urllib.error\n",
    "from scipy.stats import linregress\n",
    "\n",
    "# Import API key\n",
    "from api_key import weather_api_key\n",
    "\n",
    "# Incorporated citipy to determine city based on latitude and longitude\n",
    "from citipy import citipy\n",
    "\n",
    "# Output File (CSV)\n",
    "output_data_file = \"../cities.csv\"\n",
    "\n",
    "# Range of latitudes and longitudes\n",
    "lat_range = (-90, 90)\n",
    "lng_range = (-180, 180)"
   ]
  },
  {
   "cell_type": "markdown",
   "metadata": {
    "deletable": true,
    "editable": true
   },
   "source": [
    "## Generate Cities List"
   ]
  },
  {
   "cell_type": "code",
   "execution_count": 3,
   "metadata": {
    "collapsed": false,
    "deletable": true,
    "editable": true
   },
   "outputs": [
    {
     "data": {
      "text/plain": [
       "644"
      ]
     },
     "execution_count": 3,
     "metadata": {},
     "output_type": "execute_result"
    }
   ],
   "source": [
    "# List for holding lat_lngs and cities\n",
    "lat_lngs = []\n",
    "cities = []\n",
    "\n",
    "# Create a set of random lat and lng combinations\n",
    "lats = np.random.uniform(lat_range[0], lat_range[1], size=1500)\n",
    "lngs = np.random.uniform(lng_range[0], lng_range[1], size=1500)\n",
    "lat_lngs = zip(lats, lngs)\n",
    "\n",
    "# Identify nearest city for each lat, lng combination\n",
    "for lat_lng in lat_lngs:\n",
    "    city = citipy.nearest_city(lat_lng[0], lat_lng[1]).city_name\n",
    "    \n",
    "    # If the city is unique, then add it to a our cities list\n",
    "    if city not in cities:\n",
    "        cities.append(city)\n",
    "\n",
    "# Print the city count to confirm sufficient count\n",
    "len(cities)"
   ]
  },
  {
   "cell_type": "markdown",
   "metadata": {
    "deletable": true,
    "editable": true
   },
   "source": [
    "### Perform API Calls\n",
    "* Perform a weather check on each city using a series of successive API calls.\n",
    "* Include a print log of each city as it'sbeing processed (with the city number and city name).\n"
   ]
  },
  {
   "cell_type": "code",
   "execution_count": 4,
   "metadata": {
    "collapsed": false,
    "deletable": true,
    "editable": true,
    "scrolled": true
   },
   "outputs": [],
   "source": [
    "#build query url and set config information\n",
    "url= \"http://api.openweathermap.org/data/2.5/weather?q=\" + city + \"&appid=\" + weather_api_key\n",
    "units = \"Imperial\"\n",
    "lat= []\n",
    "lon= []\n",
    "max_temp= []\n",
    "humidity= []\n",
    "cloudiness= []\n",
    "wind_speed= []\n",
    "country= []\n",
    "date=[]\n",
    "cit_list= []"
   ]
  },
  {
   "cell_type": "code",
   "execution_count": null,
   "metadata": {
    "collapsed": false,
    "deletable": true,
    "editable": true
   },
   "outputs": [
    {
     "name": "stdout",
     "output_type": "stream",
     "text": [
      "------------------------------\n",
      "Begin Data Retrieval\n",
      "------------------------------\n",
      "Processing record 1| punta arenas\n",
      "City not found. Skipping...\n",
      "Processing record 1| padang\n",
      "City not found. Skipping...\n",
      "Processing record 1| severo-kurilsk\n",
      "City not found. Skipping...\n",
      "Processing record 1| kushiro\n",
      "City not found. Skipping...\n",
      "Processing record 1| alofi\n",
      "City not found. Skipping...\n",
      "Processing record 1| jamestown\n",
      "City not found. Skipping...\n",
      "Processing record 1| wanaka\n",
      "City not found. Skipping...\n",
      "Processing record 1| busselton\n",
      "City not found. Skipping...\n",
      "Processing record 1| price\n",
      "City not found. Skipping...\n",
      "Processing record 1| mataura\n",
      "City not found. Skipping...\n",
      "Processing record 1| taolanaro\n",
      "City not found. Skipping...\n",
      "Processing record 1| yellowknife\n",
      "City not found. Skipping...\n",
      "Processing record 1| outlook\n",
      "City not found. Skipping...\n",
      "Processing record 1| cariamanga\n",
      "City not found. Skipping...\n",
      "Processing record 1| tomatlan\n",
      "City not found. Skipping...\n",
      "Processing record 1| rikitea\n",
      "City not found. Skipping...\n",
      "Processing record 1| castro\n",
      "City not found. Skipping...\n",
      "Processing record 1| cape town\n",
      "City not found. Skipping...\n",
      "Processing record 1| vaitupu\n",
      "City not found. Skipping...\n",
      "Processing record 1| qaanaaq\n",
      "City not found. Skipping...\n",
      "Processing record 1| illoqqortoormiut\n",
      "City not found. Skipping...\n",
      "Processing record 1| jumla\n",
      "City not found. Skipping...\n",
      "Processing record 1| vestmanna\n",
      "City not found. Skipping...\n",
      "Processing record 1| port macquarie\n",
      "City not found. Skipping...\n",
      "Processing record 1| yerakarou\n",
      "City not found. Skipping...\n",
      "Processing record 1| hobart\n",
      "City not found. Skipping...\n",
      "Processing record 1| ushuaia\n",
      "City not found. Skipping...\n",
      "Processing record 1| ribeira grande\n",
      "City not found. Skipping...\n",
      "Processing record 1| arman\n",
      "City not found. Skipping...\n",
      "Processing record 1| kapaa\n",
      "City not found. Skipping...\n",
      "Processing record 1| kuito\n",
      "City not found. Skipping...\n",
      "Processing record 1| chokurdakh\n",
      "City not found. Skipping...\n",
      "Processing record 1| albany\n",
      "City not found. Skipping...\n",
      "Processing record 1| bluff\n",
      "City not found. Skipping...\n",
      "Processing record 1| norman wells\n",
      "City not found. Skipping...\n",
      "Processing record 1| salalah\n",
      "City not found. Skipping...\n",
      "Processing record 1| pangnirtung\n",
      "City not found. Skipping...\n",
      "Processing record 1| cidreira\n",
      "City not found. Skipping...\n",
      "Processing record 1| cobija\n",
      "City not found. Skipping...\n",
      "Processing record 1| vaini\n",
      "City not found. Skipping...\n",
      "Processing record 1| channel-port aux basques\n",
      "City not found. Skipping...\n",
      "Processing record 1| new norfolk\n",
      "City not found. Skipping...\n",
      "Processing record 1| sola\n",
      "City not found. Skipping...\n",
      "Processing record 1| ilulissat\n",
      "City not found. Skipping...\n",
      "Processing record 1| awjilah\n",
      "City not found. Skipping...\n",
      "Processing record 1| abha\n",
      "City not found. Skipping...\n",
      "Processing record 1| urubicha\n",
      "City not found. Skipping...\n",
      "Processing record 1| mabaruma\n",
      "City not found. Skipping...\n",
      "Processing record 1| king city\n",
      "City not found. Skipping...\n",
      "Processing record 1| mopti\n",
      "City not found. Skipping...\n",
      "Processing record 1| khatanga\n",
      "City not found. Skipping...\n",
      "Processing record 1| ondorhaan\n",
      "City not found. Skipping...\n",
      "Processing record 1| tuktoyaktuk\n",
      "City not found. Skipping...\n",
      "Processing record 1| atuona\n",
      "City not found. Skipping...\n",
      "Processing record 1| forset\n",
      "City not found. Skipping...\n",
      "Processing record 1| naliya\n",
      "City not found. Skipping...\n",
      "Processing record 1| grand river south east\n",
      "City not found. Skipping...\n",
      "Processing record 1| kavieng\n",
      "City not found. Skipping...\n",
      "Processing record 1| cabatuan\n",
      "City not found. Skipping...\n",
      "Processing record 1| tuatapere\n",
      "City not found. Skipping...\n",
      "Processing record 1| barrow\n",
      "City not found. Skipping...\n",
      "Processing record 1| lichuan\n",
      "City not found. Skipping...\n",
      "Processing record 1| nioaque\n",
      "City not found. Skipping...\n",
      "Processing record 1| kaeo\n",
      "City not found. Skipping...\n",
      "Processing record 1| sinegorskiy\n",
      "City not found. Skipping...\n",
      "Processing record 1| luderitz\n",
      "City not found. Skipping...\n",
      "Processing record 1| kieta\n",
      "City not found. Skipping...\n",
      "Processing record 1| kodiak\n",
      "City not found. Skipping...\n",
      "Processing record 1| coquimbo\n",
      "City not found. Skipping...\n",
      "Processing record 1| gillette\n",
      "City not found. Skipping...\n",
      "Processing record 1| tiksi\n",
      "City not found. Skipping...\n",
      "Processing record 1| kununurra\n",
      "City not found. Skipping...\n",
      "Processing record 1| severo-yeniseyskiy\n",
      "City not found. Skipping...\n",
      "Processing record 1| bredasdorp\n",
      "City not found. Skipping...\n",
      "Processing record 1| dormidontovka\n",
      "City not found. Skipping...\n",
      "Processing record 1| gat\n",
      "City not found. Skipping...\n",
      "Processing record 1| karatau\n",
      "City not found. Skipping...\n",
      "Processing record 1| broome\n",
      "City not found. Skipping...\n",
      "Processing record 1| sentyabrskiy\n",
      "City not found. Skipping...\n",
      "Processing record 1| butaritari\n",
      "City not found. Skipping...\n",
      "Processing record 1| nikolskoye\n",
      "City not found. Skipping...\n",
      "Processing record 1| sistranda\n",
      "City not found. Skipping...\n",
      "Processing record 1| provideniya\n",
      "City not found. Skipping...\n",
      "Processing record 1| alice springs\n",
      "City not found. Skipping...\n",
      "Processing record 1| orbetello\n",
      "City not found. Skipping...\n",
      "Processing record 1| goderich\n",
      "City not found. Skipping...\n",
      "Processing record 1| barentsburg\n",
      "City not found. Skipping...\n",
      "Processing record 1| hermanus\n",
      "City not found. Skipping...\n",
      "Processing record 1| faanui\n",
      "City not found. Skipping...\n",
      "Processing record 1| hilo\n",
      "City not found. Skipping...\n",
      "Processing record 1| te anau\n",
      "City not found. Skipping...\n",
      "Processing record 1| hualmay\n"
     ]
    }
   ],
   "source": [
    "#set counts for printing of records\n",
    "count = 1\n",
    "group = 1\n",
    "\n",
    "#create loop for data to generate dataframe\n",
    "print(\"------------------------------\\nBegin Data Retrieval\\n------------------------------\")\n",
    "for city in cities:\n",
    "    print(f\"Processing record {count}| {city}\")\n",
    "    try:\n",
    "        response = requests.get(url + city.replace(\" \",\"&\")).json()\n",
    "        lat.append(response['coord']['lat'])\n",
    "        lon.append(response['coord']['lon'])\n",
    "        max_temp.append(response['main']['temp_max'])\n",
    "        humidity.append(response['main']['humidity'])\n",
    "        cloudiness.append(response['clouds']['all'])\n",
    "        wind_speed.append(response['wind']['speed'])\n",
    "        country.append(response['sys']['country'])\n",
    "        date.append(response['dt'])\n",
    "        \n",
    "        if count > 49:\n",
    "            count = 1\n",
    "            group + 1\n",
    "            cit_list.append(city)\n",
    "        else:\n",
    "            count + 1\n",
    "            cit_list.append(city)\n",
    "    except Exception:\n",
    "        print(\"City not found. Skipping...\")\n",
    "print(\"------------------------------\\nRetrieval of Data: Completed\\n------------------------------\")"
   ]
  },
  {
   "cell_type": "markdown",
   "metadata": {
    "deletable": true,
    "editable": true
   },
   "source": [
    "### Convert Raw Data to DataFrame\n",
    "* Export the city data into a .csv.\n",
    "* Display the DataFrame"
   ]
  },
  {
   "cell_type": "code",
   "execution_count": 14,
   "metadata": {
    "collapsed": false,
    "deletable": true,
    "editable": true
   },
   "outputs": [],
   "source": [
    "#Create dictionary for dataframe column creation\n",
    "weather_stats = {\"City\": cit_list,\n",
    "                 \"Lat\": lat,\n",
    "                 \"Lon\": lon,\n",
    "                 \"Max Temp\" : max_temp,\n",
    "                 \"Humidity\" : humidity,\n",
    "                 \"Cloudiness\" : cloudiness,\n",
    "                 \"Wind Speed\" : wind_speed,\n",
    "                 \"Country\" : country,\n",
    "                 \"Date\" : date}"
   ]
  },
  {
   "cell_type": "code",
   "execution_count": 15,
   "metadata": {
    "collapsed": false,
    "deletable": true,
    "editable": true
   },
   "outputs": [
    {
     "data": {
      "text/html": [
       "<div>\n",
       "<style scoped>\n",
       "    .dataframe tbody tr th:only-of-type {\n",
       "        vertical-align: middle;\n",
       "    }\n",
       "\n",
       "    .dataframe tbody tr th {\n",
       "        vertical-align: top;\n",
       "    }\n",
       "\n",
       "    .dataframe thead th {\n",
       "        text-align: right;\n",
       "    }\n",
       "</style>\n",
       "<table border=\"1\" class=\"dataframe\">\n",
       "  <thead>\n",
       "    <tr style=\"text-align: right;\">\n",
       "      <th></th>\n",
       "      <th>City</th>\n",
       "      <th>Lat</th>\n",
       "      <th>Lon</th>\n",
       "      <th>Max Temp</th>\n",
       "      <th>Humidity</th>\n",
       "      <th>Cloudiness</th>\n",
       "      <th>Wind Speed</th>\n",
       "      <th>Country</th>\n",
       "      <th>Date</th>\n",
       "    </tr>\n",
       "  </thead>\n",
       "  <tbody>\n",
       "  </tbody>\n",
       "</table>\n",
       "</div>"
      ],
      "text/plain": [
       "Empty DataFrame\n",
       "Columns: [City, Lat, Lon, Max Temp, Humidity, Cloudiness, Wind Speed, Country, Date]\n",
       "Index: []"
      ]
     },
     "execution_count": 15,
     "metadata": {},
     "output_type": "execute_result"
    }
   ],
   "source": [
    "#Create a DataFrame from previously obtained data presented through dictionary\n",
    "weather_data = pd.DataFrame(weather_stats)\n",
    "weather_data.head()"
   ]
  },
  {
   "cell_type": "markdown",
   "metadata": {
    "deletable": true,
    "editable": true
   },
   "source": [
    "## Inspect the data and remove the cities where the humidity > 100%.\n",
    "----\n",
    "Skip this step if there are no cities that have humidity > 100%. "
   ]
  },
  {
   "cell_type": "code",
   "execution_count": null,
   "metadata": {
    "collapsed": false,
    "deletable": true,
    "editable": true
   },
   "outputs": [],
   "source": []
  },
  {
   "cell_type": "code",
   "execution_count": null,
   "metadata": {
    "collapsed": false,
    "deletable": true,
    "editable": true
   },
   "outputs": [],
   "source": [
    "#  Get the indices of cities that have humidity over 100%.\n"
   ]
  },
  {
   "cell_type": "code",
   "execution_count": null,
   "metadata": {
    "collapsed": false,
    "deletable": true,
    "editable": true
   },
   "outputs": [],
   "source": [
    "# Make a new DataFrame equal to the city data to drop all humidity outliers by index.\n",
    "# Passing \"inplace=False\" will make a copy of the city_data DataFrame, which we call \"clean_city_data\".\n"
   ]
  },
  {
   "cell_type": "code",
   "execution_count": null,
   "metadata": {
    "collapsed": true,
    "deletable": true,
    "editable": true
   },
   "outputs": [],
   "source": [
    "\n"
   ]
  },
  {
   "cell_type": "markdown",
   "metadata": {
    "deletable": true,
    "editable": true
   },
   "source": [
    "## Plotting the Data\n",
    "* Use proper labeling of the plots using plot titles (including date of analysis) and axes labels.\n",
    "* Save the plotted figures as .pngs."
   ]
  },
  {
   "cell_type": "markdown",
   "metadata": {
    "deletable": true,
    "editable": true
   },
   "source": [
    "## Latitude vs. Temperature Plot"
   ]
  },
  {
   "cell_type": "code",
   "execution_count": null,
   "metadata": {
    "collapsed": false,
    "deletable": true,
    "editable": true,
    "scrolled": true
   },
   "outputs": [],
   "source": []
  },
  {
   "cell_type": "markdown",
   "metadata": {
    "deletable": true,
    "editable": true
   },
   "source": [
    "## Latitude vs. Humidity Plot"
   ]
  },
  {
   "cell_type": "code",
   "execution_count": null,
   "metadata": {
    "collapsed": false,
    "deletable": true,
    "editable": true
   },
   "outputs": [],
   "source": []
  },
  {
   "cell_type": "markdown",
   "metadata": {
    "deletable": true,
    "editable": true
   },
   "source": [
    "## Latitude vs. Cloudiness Plot"
   ]
  },
  {
   "cell_type": "code",
   "execution_count": null,
   "metadata": {
    "collapsed": false,
    "deletable": true,
    "editable": true
   },
   "outputs": [],
   "source": []
  },
  {
   "cell_type": "markdown",
   "metadata": {
    "deletable": true,
    "editable": true
   },
   "source": [
    "## Latitude vs. Wind Speed Plot"
   ]
  },
  {
   "cell_type": "code",
   "execution_count": null,
   "metadata": {
    "collapsed": false,
    "deletable": true,
    "editable": true
   },
   "outputs": [],
   "source": []
  },
  {
   "cell_type": "markdown",
   "metadata": {
    "deletable": true,
    "editable": true
   },
   "source": [
    "## Linear Regression"
   ]
  },
  {
   "cell_type": "code",
   "execution_count": null,
   "metadata": {
    "collapsed": true,
    "deletable": true,
    "editable": true
   },
   "outputs": [],
   "source": []
  },
  {
   "cell_type": "markdown",
   "metadata": {
    "deletable": true,
    "editable": true
   },
   "source": [
    "####  Northern Hemisphere - Max Temp vs. Latitude Linear Regression"
   ]
  },
  {
   "cell_type": "code",
   "execution_count": null,
   "metadata": {
    "collapsed": false,
    "deletable": true,
    "editable": true
   },
   "outputs": [],
   "source": []
  },
  {
   "cell_type": "markdown",
   "metadata": {
    "deletable": true,
    "editable": true
   },
   "source": [
    "####  Southern Hemisphere - Max Temp vs. Latitude Linear Regression"
   ]
  },
  {
   "cell_type": "code",
   "execution_count": null,
   "metadata": {
    "collapsed": false,
    "deletable": true,
    "editable": true
   },
   "outputs": [],
   "source": []
  },
  {
   "cell_type": "markdown",
   "metadata": {
    "deletable": true,
    "editable": true
   },
   "source": [
    "####  Northern Hemisphere - Humidity (%) vs. Latitude Linear Regression"
   ]
  },
  {
   "cell_type": "code",
   "execution_count": null,
   "metadata": {
    "collapsed": false,
    "deletable": true,
    "editable": true
   },
   "outputs": [],
   "source": []
  },
  {
   "cell_type": "markdown",
   "metadata": {
    "deletable": true,
    "editable": true
   },
   "source": [
    "####  Southern Hemisphere - Humidity (%) vs. Latitude Linear Regression"
   ]
  },
  {
   "cell_type": "code",
   "execution_count": null,
   "metadata": {
    "collapsed": false,
    "deletable": true,
    "editable": true
   },
   "outputs": [],
   "source": []
  },
  {
   "cell_type": "markdown",
   "metadata": {
    "deletable": true,
    "editable": true
   },
   "source": [
    "####  Northern Hemisphere - Cloudiness (%) vs. Latitude Linear Regression"
   ]
  },
  {
   "cell_type": "code",
   "execution_count": null,
   "metadata": {
    "collapsed": false,
    "deletable": true,
    "editable": true
   },
   "outputs": [],
   "source": []
  },
  {
   "cell_type": "markdown",
   "metadata": {
    "deletable": true,
    "editable": true
   },
   "source": [
    "####  Southern Hemisphere - Cloudiness (%) vs. Latitude Linear Regression"
   ]
  },
  {
   "cell_type": "code",
   "execution_count": null,
   "metadata": {
    "collapsed": false,
    "deletable": true,
    "editable": true
   },
   "outputs": [],
   "source": []
  },
  {
   "cell_type": "markdown",
   "metadata": {
    "deletable": true,
    "editable": true
   },
   "source": [
    "####  Northern Hemisphere - Wind Speed (mph) vs. Latitude Linear Regression"
   ]
  },
  {
   "cell_type": "code",
   "execution_count": null,
   "metadata": {
    "collapsed": false,
    "deletable": true,
    "editable": true
   },
   "outputs": [],
   "source": []
  },
  {
   "cell_type": "markdown",
   "metadata": {
    "deletable": true,
    "editable": true
   },
   "source": [
    "####  Southern Hemisphere - Wind Speed (mph) vs. Latitude Linear Regression"
   ]
  },
  {
   "cell_type": "code",
   "execution_count": null,
   "metadata": {
    "collapsed": false,
    "deletable": true,
    "editable": true
   },
   "outputs": [],
   "source": []
  },
  {
   "cell_type": "code",
   "execution_count": null,
   "metadata": {
    "collapsed": true,
    "deletable": true,
    "editable": true
   },
   "outputs": [],
   "source": []
  }
 ],
 "metadata": {
  "anaconda-cloud": {},
  "kernel_info": {
   "name": "python3"
  },
  "kernelspec": {
   "display_name": "PythonData",
   "language": "python",
   "name": "pythondata"
  },
  "language_info": {
   "codemirror_mode": {
    "name": "ipython",
    "version": 3
   },
   "file_extension": ".py",
   "mimetype": "text/x-python",
   "name": "python",
   "nbconvert_exporter": "python",
   "pygments_lexer": "ipython3",
   "version": "3.6.10"
  },
  "latex_envs": {
   "LaTeX_envs_menu_present": true,
   "autoclose": false,
   "autocomplete": true,
   "bibliofile": "biblio.bib",
   "cite_by": "apalike",
   "current_citInitial": 1,
   "eqLabelWithNumbers": true,
   "eqNumInitial": 1,
   "hotkeys": {
    "equation": "Ctrl-E",
    "itemize": "Ctrl-I"
   },
   "labels_anchors": false,
   "latex_user_defs": false,
   "report_style_numbering": false,
   "user_envs_cfg": false
  },
  "nteract": {
   "version": "0.12.3"
  }
 },
 "nbformat": 4,
 "nbformat_minor": 2
}
