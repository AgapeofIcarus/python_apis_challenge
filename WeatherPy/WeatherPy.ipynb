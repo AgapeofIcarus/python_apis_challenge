{
 "cells": [
  {
   "cell_type": "markdown",
   "metadata": {
    "deletable": true,
    "editable": true
   },
   "source": [
    "# WeatherPy\n",
    "----\n",
    "\n",
    "#### Note\n",
    "* Instructions have been included for each segment. You do not have to follow them exactly, but they are included to help you think through the steps."
   ]
  },
  {
   "cell_type": "code",
   "execution_count": 36,
   "metadata": {
    "collapsed": false,
    "deletable": true,
    "editable": true,
    "scrolled": true
   },
   "outputs": [],
   "source": [
    "# Dependencies and Setup\n",
    "import matplotlib.pyplot as plt\n",
    "import pandas as pd\n",
    "import numpy as np\n",
    "import requests\n",
    "import time\n",
    "import urllib.request,urllib.parse,urllib.error\n",
    "from scipy.stats import linregress\n",
    "\n",
    "# Import API key\n",
    "from api_key import weather_api_key\n",
    "\n",
    "# Incorporated citipy to determine city based on latitude and longitude\n",
    "from citipy import citipy\n",
    "\n",
    "# Output File (CSV)\n",
    "output_data_file = \"../cities.csv\"\n",
    "\n",
    "# Range of latitudes and longitudes\n",
    "lat_range = (-90, 90)\n",
    "lng_range = (-180, 180)"
   ]
  },
  {
   "cell_type": "markdown",
   "metadata": {
    "deletable": true,
    "editable": true
   },
   "source": [
    "## Generate Cities List"
   ]
  },
  {
   "cell_type": "code",
   "execution_count": 33,
   "metadata": {
    "collapsed": false,
    "deletable": true,
    "editable": true
   },
   "outputs": [
    {
     "data": {
      "text/plain": [
       "607"
      ]
     },
     "execution_count": 33,
     "metadata": {},
     "output_type": "execute_result"
    }
   ],
   "source": [
    "# List for holding lat_lngs and cities\n",
    "lat_lngs = []\n",
    "cities = []\n",
    "\n",
    "# Create a set of random lat and lng combinations\n",
    "lats = np.random.uniform(lat_range[0], lat_range[1], size=1500)\n",
    "lngs = np.random.uniform(lng_range[0], lng_range[1], size=1500)\n",
    "lat_lngs = zip(lats, lngs)\n",
    "\n",
    "# Identify nearest city for each lat, lng combination\n",
    "for lat_lng in lat_lngs:\n",
    "    city = citipy.nearest_city(lat_lng[0], lat_lng[1]).city_name\n",
    "    \n",
    "    # If the city is unique, then add it to a our cities list\n",
    "    if city not in cities:\n",
    "        cities.append(city)\n",
    "\n",
    "# Print the city count to confirm sufficient count\n",
    "len(cities)"
   ]
  },
  {
   "cell_type": "markdown",
   "metadata": {
    "deletable": true,
    "editable": true
   },
   "source": [
    "### Perform API Calls\n",
    "* Perform a weather check on each city using a series of successive API calls.\n",
    "* Include a print log of each city as it'sbeing processed (with the city number and city name).\n"
   ]
  },
  {
   "cell_type": "code",
   "execution_count": 34,
   "metadata": {
    "collapsed": false,
    "deletable": true,
    "editable": true,
    "scrolled": true
   },
   "outputs": [],
   "source": [
    "#build query url and set config information\n",
    "url= \"http://api.openweathermap.org/data/2.5/weather?q=\" + city + \"&appid=\" + weather_api_key\n",
    "units = \"Imperial\"\n",
    "lat= []\n",
    "lon= []\n",
    "max_temp= []\n",
    "humidity= []\n",
    "cloudiness= []\n",
    "wind_speed= []\n",
    "country= []\n",
    "date=[]\n",
    "cit_list= []"
   ]
  },
  {
   "cell_type": "code",
   "execution_count": null,
   "metadata": {
    "collapsed": false,
    "deletable": true,
    "editable": true
   },
   "outputs": [
    {
     "name": "stdout",
     "output_type": "stream",
     "text": [
      "------------------------------\n",
      "Begin Data Retrieval\n",
      "------------------------------\n",
      "Processing record 1| rikitea\n",
      "City not found. Skipping...\n",
      "Processing record 1| ushuaia\n",
      "City not found. Skipping...\n",
      "Processing record 1| albany\n",
      "City not found. Skipping...\n",
      "Processing record 1| lebu\n",
      "City not found. Skipping...\n",
      "Processing record 1| busselton\n",
      "City not found. Skipping...\n",
      "Processing record 1| taolanaro\n",
      "City not found. Skipping...\n",
      "Processing record 1| vaitupu\n",
      "City not found. Skipping...\n",
      "Processing record 1| artyk\n",
      "City not found. Skipping...\n",
      "Processing record 1| victoria\n",
      "City not found. Skipping...\n",
      "Processing record 1| longyearbyen\n",
      "City not found. Skipping...\n",
      "Processing record 1| louisbourg\n",
      "City not found. Skipping...\n",
      "Processing record 1| kokkola\n",
      "City not found. Skipping...\n",
      "Processing record 1| cape town\n",
      "City not found. Skipping...\n",
      "Processing record 1| mataura\n",
      "City not found. Skipping...\n",
      "Processing record 1| naze\n",
      "City not found. Skipping...\n",
      "Processing record 1| bredasdorp\n",
      "City not found. Skipping...\n",
      "Processing record 1| ndele\n",
      "City not found. Skipping...\n",
      "Processing record 1| port-gentil\n",
      "City not found. Skipping...\n",
      "Processing record 1| bambous virieux\n",
      "City not found. Skipping...\n",
      "Processing record 1| manta\n",
      "City not found. Skipping...\n",
      "Processing record 1| castro\n",
      "City not found. Skipping...\n",
      "Processing record 1| tilichiki\n",
      "City not found. Skipping...\n",
      "Processing record 1| vaini\n",
      "City not found. Skipping...\n",
      "Processing record 1| kapaa\n",
      "City not found. Skipping...\n",
      "Processing record 1| chiredzi\n",
      "City not found. Skipping...\n",
      "Processing record 1| bengkulu\n",
      "City not found. Skipping...\n",
      "Processing record 1| punta arenas\n",
      "City not found. Skipping...\n",
      "Processing record 1| khatanga\n",
      "City not found. Skipping...\n",
      "Processing record 1| abiy adi\n",
      "City not found. Skipping...\n",
      "Processing record 1| marawi\n",
      "City not found. Skipping...\n",
      "Processing record 1| haines junction\n",
      "City not found. Skipping...\n",
      "Processing record 1| atuona\n",
      "City not found. Skipping...\n",
      "Processing record 1| karratha\n",
      "City not found. Skipping...\n",
      "Processing record 1| ayagoz\n",
      "City not found. Skipping...\n",
      "Processing record 1| mae sai\n",
      "City not found. Skipping...\n",
      "Processing record 1| stephenville\n",
      "City not found. Skipping...\n",
      "Processing record 1| jiddah\n",
      "City not found. Skipping...\n",
      "Processing record 1| port elizabeth\n",
      "City not found. Skipping...\n",
      "Processing record 1| avarua\n",
      "City not found. Skipping...\n",
      "Processing record 1| jamestown\n",
      "City not found. Skipping...\n",
      "Processing record 1| najran\n",
      "City not found. Skipping...\n",
      "Processing record 1| east london\n",
      "City not found. Skipping...\n",
      "Processing record 1| marsh harbour\n",
      "City not found. Skipping...\n",
      "Processing record 1| carnarvon\n",
      "City not found. Skipping...\n",
      "Processing record 1| dikson\n",
      "City not found. Skipping...\n",
      "Processing record 1| kitimat\n",
      "City not found. Skipping...\n",
      "Processing record 1| velikiy ustyug\n",
      "City not found. Skipping...\n",
      "Processing record 1| otake\n",
      "City not found. Skipping...\n",
      "Processing record 1| upernavik\n",
      "City not found. Skipping...\n",
      "Processing record 1| ambositra\n",
      "City not found. Skipping...\n",
      "Processing record 1| sao gabriel da cachoeira\n",
      "City not found. Skipping...\n",
      "Processing record 1| butaritari\n",
      "City not found. Skipping...\n",
      "Processing record 1| lima\n",
      "City not found. Skipping...\n",
      "Processing record 1| hualmay\n",
      "City not found. Skipping...\n",
      "Processing record 1| karema\n",
      "City not found. Skipping...\n",
      "Processing record 1| nanortalik\n",
      "City not found. Skipping...\n",
      "Processing record 1| latur\n",
      "City not found. Skipping...\n",
      "Processing record 1| georgetown\n",
      "City not found. Skipping...\n",
      "Processing record 1| evensk\n",
      "City not found. Skipping...\n",
      "Processing record 1| porto novo\n",
      "City not found. Skipping...\n",
      "Processing record 1| viedma\n",
      "City not found. Skipping...\n",
      "Processing record 1| ugoofaaru\n",
      "City not found. Skipping...\n",
      "Processing record 1| staraya kulatka\n",
      "City not found. Skipping...\n",
      "Processing record 1| poum\n",
      "City not found. Skipping...\n",
      "Processing record 1| sofiysk\n",
      "City not found. Skipping...\n",
      "Processing record 1| leh\n",
      "City not found. Skipping...\n",
      "Processing record 1| lata\n",
      "City not found. Skipping...\n",
      "Processing record 1| kihei\n",
      "City not found. Skipping...\n",
      "Processing record 1| plettenberg bay\n",
      "City not found. Skipping...\n",
      "Processing record 1| kongolo\n",
      "City not found. Skipping...\n",
      "Processing record 1| esperance\n",
      "City not found. Skipping...\n",
      "Processing record 1| mandalgovi\n",
      "City not found. Skipping...\n",
      "Processing record 1| kandrian\n",
      "City not found. Skipping...\n",
      "Processing record 1| hobart\n",
      "City not found. Skipping...\n",
      "Processing record 1| henties bay\n",
      "City not found. Skipping...\n",
      "Processing record 1| chokurdakh\n",
      "City not found. Skipping...\n",
      "Processing record 1| dunedin\n",
      "City not found. Skipping...\n",
      "Processing record 1| port macquarie\n",
      "City not found. Skipping...\n",
      "Processing record 1| provideniya\n",
      "City not found. Skipping...\n",
      "Processing record 1| khani\n",
      "City not found. Skipping...\n",
      "Processing record 1| new norfolk\n",
      "City not found. Skipping...\n",
      "Processing record 1| mazara del vallo\n",
      "City not found. Skipping...\n",
      "Processing record 1| masallatah\n",
      "City not found. Skipping...\n",
      "Processing record 1| ascension\n",
      "City not found. Skipping...\n",
      "Processing record 1| hilo\n",
      "City not found. Skipping...\n",
      "Processing record 1| codrington\n",
      "City not found. Skipping...\n",
      "Processing record 1| ilulissat\n",
      "City not found. Skipping...\n",
      "Processing record 1| saleaula\n",
      "City not found. Skipping...\n",
      "Processing record 1| cabo san lucas\n",
      "City not found. Skipping...\n",
      "Processing record 1| namtsy\n",
      "City not found. Skipping...\n",
      "Processing record 1| tabiauea\n",
      "City not found. Skipping...\n",
      "Processing record 1| saint-junien\n",
      "City not found. Skipping...\n",
      "Processing record 1| llangefni\n",
      "City not found. Skipping...\n",
      "Processing record 1| baruun-urt\n",
      "City not found. Skipping...\n",
      "Processing record 1| mahebourg\n",
      "City not found. Skipping...\n",
      "Processing record 1| galich\n",
      "City not found. Skipping...\n",
      "Processing record 1| port alfred\n",
      "City not found. Skipping...\n",
      "Processing record 1| pangnirtung\n",
      "City not found. Skipping...\n",
      "Processing record 1| awbari\n",
      "City not found. Skipping...\n",
      "Processing record 1| paramonga\n",
      "City not found. Skipping...\n",
      "Processing record 1| samusu\n",
      "City not found. Skipping...\n",
      "Processing record 1| belushya guba\n",
      "City not found. Skipping...\n",
      "Processing record 1| katsuura\n",
      "City not found. Skipping...\n",
      "Processing record 1| sumbawa\n",
      "City not found. Skipping...\n",
      "Processing record 1| japura\n",
      "City not found. Skipping...\n",
      "Processing record 1| yar-sale\n",
      "City not found. Skipping...\n",
      "Processing record 1| port keats\n",
      "City not found. Skipping...\n",
      "Processing record 1| eyemouth\n",
      "City not found. Skipping...\n",
      "Processing record 1| bethel\n",
      "City not found. Skipping...\n",
      "Processing record 1| nuuk\n",
      "City not found. Skipping...\n",
      "Processing record 1| fortuna\n",
      "City not found. Skipping...\n",
      "Processing record 1| ouallam\n",
      "City not found. Skipping...\n",
      "Processing record 1| sitka\n",
      "City not found. Skipping...\n",
      "Processing record 1| tucuman\n",
      "City not found. Skipping...\n",
      "Processing record 1| monte cristi\n",
      "City not found. Skipping...\n",
      "Processing record 1| nikolskoye\n",
      "City not found. Skipping...\n",
      "Processing record 1| hermanus\n",
      "City not found. Skipping...\n",
      "Processing record 1| burica\n",
      "City not found. Skipping...\n",
      "Processing record 1| ilheus\n",
      "City not found. Skipping...\n",
      "Processing record 1| sao filipe\n",
      "City not found. Skipping...\n",
      "Processing record 1| bay roberts\n",
      "City not found. Skipping...\n",
      "Processing record 1| leshukonskoye\n",
      "City not found. Skipping...\n",
      "Processing record 1| dali\n",
      "City not found. Skipping...\n",
      "Processing record 1| petropavlovsk-kamchatskiy\n",
      "City not found. Skipping...\n",
      "Processing record 1| barentsburg\n",
      "City not found. Skipping...\n",
      "Processing record 1| mumford\n",
      "City not found. Skipping...\n",
      "Processing record 1| sankt johann im pongau\n",
      "City not found. Skipping...\n",
      "Processing record 1| tuyen quang\n",
      "City not found. Skipping...\n",
      "Processing record 1| tynda\n",
      "City not found. Skipping...\n",
      "Processing record 1| meyungs\n",
      "City not found. Skipping...\n",
      "Processing record 1| takoradi\n",
      "City not found. Skipping...\n",
      "Processing record 1| iralaya\n",
      "City not found. Skipping...\n",
      "Processing record 1| amderma\n",
      "City not found. Skipping...\n",
      "Processing record 1| illoqqortoormiut\n",
      "City not found. Skipping...\n",
      "Processing record 1| tigre\n",
      "City not found. Skipping...\n",
      "Processing record 1| buena vista\n",
      "City not found. Skipping...\n",
      "Processing record 1| saraland\n",
      "City not found. Skipping...\n",
      "Processing record 1| tuktoyaktuk\n",
      "City not found. Skipping...\n",
      "Processing record 1| tando muhammad khan\n"
     ]
    }
   ],
   "source": [
    "#set counts for printing of records\n",
    "count = 1\n",
    "group = 1\n",
    "\n",
    "#create loop for data to generate dataframe\n",
    "print(\"------------------------------\\nBegin Data Retrieval\\n------------------------------\")\n",
    "for city in cities:\n",
    "    print(f\"Processing record {count}| {city}\")\n",
    "    try:\n",
    "        response = requests.get(url + city.replace(\" \",\"&\")).json()\n",
    "        lat.append(response['coord']['lat'])\n",
    "        lon.append(response['coord']['lon'])\n",
    "        max_temp.append(response['main']['temp_max'])\n",
    "        humidity.append(response['main']['humidity'])\n",
    "        cloudiness.append(response['clouds']['all'])\n",
    "        wind_speed.append(response['wind']['speed'])\n",
    "        country.append(response['sys']['country'])\n",
    "        date.append(response['dt'])\n",
    "        if count > 49: \n",
    "            count = 1\n",
    "            group += 1\n",
    "            cit_list.append(city)\n",
    "        else:\n",
    "            count += 1\n",
    "            cit_list.append(city)\n",
    "    \n",
    "    except Exception:\n",
    "        print(\"City not found. Skipping...\")\n",
    "print(\"------------------------------\\nRetrieval of Data: Completed\\n------------------------------\")"
   ]
  },
  {
   "cell_type": "markdown",
   "metadata": {
    "deletable": true,
    "editable": true
   },
   "source": [
    "### Convert Raw Data to DataFrame\n",
    "* Export the city data into a .csv.\n",
    "* Display the DataFrame"
   ]
  },
  {
   "cell_type": "code",
   "execution_count": null,
   "metadata": {
    "collapsed": false,
    "deletable": true,
    "editable": true
   },
   "outputs": [],
   "source": [
    "#Create dictionary for dataframe column creation\n",
    "weather_stats = {\"City\": cit_list,\n",
    "                 \"Lat\": lat,\n",
    "                 \"Lon\": lon,\n",
    "                 \"Max Temp\" : max_temp,\n",
    "                 \"Humidity\" : humidity,\n",
    "                 \"Cloudiness\" : cloudiness,\n",
    "                 \"Wind Speed\" : wind_speed,\n",
    "                 \"Country\" : country,\n",
    "                 \"Date\" : date}"
   ]
  },
  {
   "cell_type": "code",
   "execution_count": null,
   "metadata": {
    "collapsed": false,
    "deletable": true,
    "editable": true
   },
   "outputs": [],
   "source": [
    "#Create a DataFrame from previously obtained data\n",
    "weather_data = pd.DataFrame(weather_stats)\n",
    "weather_data.head()"
   ]
  },
  {
   "cell_type": "markdown",
   "metadata": {
    "deletable": true,
    "editable": true
   },
   "source": [
    "## Inspect the data and remove the cities where the humidity > 100%.\n",
    "----\n",
    "Skip this step if there are no cities that have humidity > 100%. "
   ]
  },
  {
   "cell_type": "code",
   "execution_count": null,
   "metadata": {
    "collapsed": false,
    "deletable": true,
    "editable": true
   },
   "outputs": [],
   "source": []
  },
  {
   "cell_type": "code",
   "execution_count": null,
   "metadata": {
    "collapsed": false,
    "deletable": true,
    "editable": true
   },
   "outputs": [],
   "source": [
    "#  Get the indices of cities that have humidity over 100%.\n"
   ]
  },
  {
   "cell_type": "code",
   "execution_count": null,
   "metadata": {
    "collapsed": false,
    "deletable": true,
    "editable": true
   },
   "outputs": [],
   "source": [
    "# Make a new DataFrame equal to the city data to drop all humidity outliers by index.\n",
    "# Passing \"inplace=False\" will make a copy of the city_data DataFrame, which we call \"clean_city_data\".\n"
   ]
  },
  {
   "cell_type": "code",
   "execution_count": null,
   "metadata": {
    "collapsed": true,
    "deletable": true,
    "editable": true
   },
   "outputs": [],
   "source": [
    "\n"
   ]
  },
  {
   "cell_type": "markdown",
   "metadata": {
    "deletable": true,
    "editable": true
   },
   "source": [
    "## Plotting the Data\n",
    "* Use proper labeling of the plots using plot titles (including date of analysis) and axes labels.\n",
    "* Save the plotted figures as .pngs."
   ]
  },
  {
   "cell_type": "markdown",
   "metadata": {
    "deletable": true,
    "editable": true
   },
   "source": [
    "## Latitude vs. Temperature Plot"
   ]
  },
  {
   "cell_type": "code",
   "execution_count": null,
   "metadata": {
    "collapsed": false,
    "deletable": true,
    "editable": true,
    "scrolled": true
   },
   "outputs": [],
   "source": []
  },
  {
   "cell_type": "markdown",
   "metadata": {
    "deletable": true,
    "editable": true
   },
   "source": [
    "## Latitude vs. Humidity Plot"
   ]
  },
  {
   "cell_type": "code",
   "execution_count": null,
   "metadata": {
    "collapsed": false,
    "deletable": true,
    "editable": true
   },
   "outputs": [],
   "source": []
  },
  {
   "cell_type": "markdown",
   "metadata": {
    "deletable": true,
    "editable": true
   },
   "source": [
    "## Latitude vs. Cloudiness Plot"
   ]
  },
  {
   "cell_type": "code",
   "execution_count": null,
   "metadata": {
    "collapsed": false,
    "deletable": true,
    "editable": true
   },
   "outputs": [],
   "source": []
  },
  {
   "cell_type": "markdown",
   "metadata": {
    "deletable": true,
    "editable": true
   },
   "source": [
    "## Latitude vs. Wind Speed Plot"
   ]
  },
  {
   "cell_type": "code",
   "execution_count": null,
   "metadata": {
    "collapsed": false,
    "deletable": true,
    "editable": true
   },
   "outputs": [],
   "source": []
  },
  {
   "cell_type": "markdown",
   "metadata": {
    "deletable": true,
    "editable": true
   },
   "source": [
    "## Linear Regression"
   ]
  },
  {
   "cell_type": "code",
   "execution_count": null,
   "metadata": {
    "collapsed": true,
    "deletable": true,
    "editable": true
   },
   "outputs": [],
   "source": []
  },
  {
   "cell_type": "markdown",
   "metadata": {
    "deletable": true,
    "editable": true
   },
   "source": [
    "####  Northern Hemisphere - Max Temp vs. Latitude Linear Regression"
   ]
  },
  {
   "cell_type": "code",
   "execution_count": null,
   "metadata": {
    "collapsed": false,
    "deletable": true,
    "editable": true
   },
   "outputs": [],
   "source": []
  },
  {
   "cell_type": "markdown",
   "metadata": {
    "deletable": true,
    "editable": true
   },
   "source": [
    "####  Southern Hemisphere - Max Temp vs. Latitude Linear Regression"
   ]
  },
  {
   "cell_type": "code",
   "execution_count": null,
   "metadata": {
    "collapsed": false,
    "deletable": true,
    "editable": true
   },
   "outputs": [],
   "source": []
  },
  {
   "cell_type": "markdown",
   "metadata": {
    "deletable": true,
    "editable": true
   },
   "source": [
    "####  Northern Hemisphere - Humidity (%) vs. Latitude Linear Regression"
   ]
  },
  {
   "cell_type": "code",
   "execution_count": null,
   "metadata": {
    "collapsed": false,
    "deletable": true,
    "editable": true
   },
   "outputs": [],
   "source": []
  },
  {
   "cell_type": "markdown",
   "metadata": {
    "deletable": true,
    "editable": true
   },
   "source": [
    "####  Southern Hemisphere - Humidity (%) vs. Latitude Linear Regression"
   ]
  },
  {
   "cell_type": "code",
   "execution_count": null,
   "metadata": {
    "collapsed": false,
    "deletable": true,
    "editable": true
   },
   "outputs": [],
   "source": []
  },
  {
   "cell_type": "markdown",
   "metadata": {
    "deletable": true,
    "editable": true
   },
   "source": [
    "####  Northern Hemisphere - Cloudiness (%) vs. Latitude Linear Regression"
   ]
  },
  {
   "cell_type": "code",
   "execution_count": null,
   "metadata": {
    "collapsed": false,
    "deletable": true,
    "editable": true
   },
   "outputs": [],
   "source": []
  },
  {
   "cell_type": "markdown",
   "metadata": {
    "deletable": true,
    "editable": true
   },
   "source": [
    "####  Southern Hemisphere - Cloudiness (%) vs. Latitude Linear Regression"
   ]
  },
  {
   "cell_type": "code",
   "execution_count": null,
   "metadata": {
    "collapsed": false,
    "deletable": true,
    "editable": true
   },
   "outputs": [],
   "source": []
  },
  {
   "cell_type": "markdown",
   "metadata": {
    "deletable": true,
    "editable": true
   },
   "source": [
    "####  Northern Hemisphere - Wind Speed (mph) vs. Latitude Linear Regression"
   ]
  },
  {
   "cell_type": "code",
   "execution_count": null,
   "metadata": {
    "collapsed": false,
    "deletable": true,
    "editable": true
   },
   "outputs": [],
   "source": []
  },
  {
   "cell_type": "markdown",
   "metadata": {
    "deletable": true,
    "editable": true
   },
   "source": [
    "####  Southern Hemisphere - Wind Speed (mph) vs. Latitude Linear Regression"
   ]
  },
  {
   "cell_type": "code",
   "execution_count": null,
   "metadata": {
    "collapsed": false,
    "deletable": true,
    "editable": true
   },
   "outputs": [],
   "source": []
  },
  {
   "cell_type": "code",
   "execution_count": null,
   "metadata": {
    "collapsed": true,
    "deletable": true,
    "editable": true
   },
   "outputs": [],
   "source": []
  }
 ],
 "metadata": {
  "anaconda-cloud": {},
  "kernel_info": {
   "name": "python3"
  },
  "kernelspec": {
   "display_name": "PythonData",
   "language": "python",
   "name": "pythondata"
  },
  "language_info": {
   "codemirror_mode": {
    "name": "ipython",
    "version": 3
   },
   "file_extension": ".py",
   "mimetype": "text/x-python",
   "name": "python",
   "nbconvert_exporter": "python",
   "pygments_lexer": "ipython3",
   "version": "3.6.10"
  },
  "latex_envs": {
   "LaTeX_envs_menu_present": true,
   "autoclose": false,
   "autocomplete": true,
   "bibliofile": "biblio.bib",
   "cite_by": "apalike",
   "current_citInitial": 1,
   "eqLabelWithNumbers": true,
   "eqNumInitial": 1,
   "hotkeys": {
    "equation": "Ctrl-E",
    "itemize": "Ctrl-I"
   },
   "labels_anchors": false,
   "latex_user_defs": false,
   "report_style_numbering": false,
   "user_envs_cfg": false
  },
  "nteract": {
   "version": "0.12.3"
  }
 },
 "nbformat": 4,
 "nbformat_minor": 2
}
