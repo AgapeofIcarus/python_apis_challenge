{
 "cells": [
  {
   "cell_type": "markdown",
   "metadata": {
    "deletable": true,
    "editable": true
   },
   "source": [
    "# WeatherPy\n",
    "----\n",
    "\n",
    "#### Note\n",
    "* Instructions have been included for each segment. You do not have to follow them exactly, but they are included to help you think through the steps."
   ]
  },
  {
   "cell_type": "code",
   "execution_count": 19,
   "metadata": {
    "collapsed": false,
    "deletable": true,
    "editable": true,
    "scrolled": true
   },
   "outputs": [],
   "source": [
    "# Dependencies and Setup\n",
    "import matplotlib.pyplot as plt\n",
    "import pandas as pd\n",
    "import numpy as np\n",
    "import requests\n",
    "import time\n",
    "from scipy.stats import linregress\n",
    "\n",
    "# Import API key\n",
    "from api_key import weather_api_key\n",
    "\n",
    "# Incorporated citipy to determine city based on latitude and longitude\n",
    "from citipy import citipy\n",
    "\n",
    "# Output File (CSV)\n",
    "output_data_file = \"../cities.csv\"\n",
    "\n",
    "# Range of latitudes and longitudes\n",
    "lat_range = (-90, 90)\n",
    "lng_range = (-180, 180)"
   ]
  },
  {
   "cell_type": "markdown",
   "metadata": {
    "deletable": true,
    "editable": true
   },
   "source": [
    "## Generate Cities List"
   ]
  },
  {
   "cell_type": "code",
   "execution_count": 20,
   "metadata": {
    "collapsed": false,
    "deletable": true,
    "editable": true
   },
   "outputs": [
    {
     "data": {
      "text/plain": [
       "595"
      ]
     },
     "execution_count": 20,
     "metadata": {},
     "output_type": "execute_result"
    }
   ],
   "source": [
    "# List for holding lat_lngs and cities\n",
    "lat_lngs = []\n",
    "cities = []\n",
    "\n",
    "# Create a set of random lat and lng combinations\n",
    "lats = np.random.uniform(lat_range[0], lat_range[1], size=1500)\n",
    "lngs = np.random.uniform(lng_range[0], lng_range[1], size=1500)\n",
    "lat_lngs = zip(lats, lngs)\n",
    "\n",
    "# Identify nearest city for each lat, lng combination\n",
    "for lat_lng in lat_lngs:\n",
    "    city = citipy.nearest_city(lat_lng[0], lat_lng[1]).city_name\n",
    "    \n",
    "    # If the city is unique, then add it to a our cities list\n",
    "    if city not in cities:\n",
    "        cities.append(city)\n",
    "\n",
    "# Print the city count to confirm sufficient count\n",
    "len(cities)"
   ]
  },
  {
   "cell_type": "markdown",
   "metadata": {
    "deletable": true,
    "editable": true
   },
   "source": [
    "### Perform API Calls\n",
    "* Perform a weather check on each city using a series of successive API calls.\n",
    "* Include a print log of each city as it'sbeing processed (with the city number and city name).\n"
   ]
  },
  {
   "cell_type": "code",
   "execution_count": 21,
   "metadata": {
    "collapsed": false,
    "deletable": true,
    "editable": true,
    "scrolled": true
   },
   "outputs": [],
   "source": [
    "#build query url and set config information\n",
    "url= \"http://api.openweathermap.org/data/2.5/weather?q=\" + city + \"&appid=\" + weather_api_key\n",
    "units = \"Imperial\"\n",
    "lat= []\n",
    "lon= []\n",
    "max_temp= []\n",
    "humidity= []\n",
    "cloudiness= []\n",
    "wind_speed= []\n",
    "country= []\n",
    "date=[]\n",
    "cit_list= []"
   ]
  },
  {
   "cell_type": "code",
   "execution_count": null,
   "metadata": {
    "collapsed": false,
    "deletable": true,
    "editable": true
   },
   "outputs": [
    {
     "name": "stdout",
     "output_type": "stream",
     "text": [
      "------------------------------\n",
      "Begin Data Retrieval\n",
      "------------------------------\n",
      "Processing record 1| aripuana\n",
      "City not found. Skipping...\n",
      "Processing record 2| kalomo\n",
      "City not found. Skipping...\n",
      "Processing record 3| carnarvon\n",
      "City not found. Skipping...\n",
      "Processing record 4| cape town\n",
      "City not found. Skipping...\n",
      "Processing record 5| binga\n",
      "City not found. Skipping...\n",
      "Processing record 6| hays\n",
      "City not found. Skipping...\n",
      "Processing record 7| ilulissat\n",
      "City not found. Skipping...\n",
      "Processing record 8| dire\n",
      "City not found. Skipping...\n",
      "Processing record 9| bambui\n",
      "City not found. Skipping...\n",
      "Processing record 10| naryan-mar\n",
      "City not found. Skipping...\n",
      "Processing record 11| qaanaaq\n",
      "City not found. Skipping...\n",
      "Processing record 12| albany\n",
      "City not found. Skipping...\n",
      "Processing record 13| hearst\n",
      "City not found. Skipping...\n",
      "Processing record 14| general roca\n",
      "City not found. Skipping...\n",
      "Processing record 15| rikitea\n",
      "City not found. Skipping...\n",
      "Processing record 16| saldanha\n",
      "City not found. Skipping...\n",
      "Processing record 17| new norfolk\n",
      "City not found. Skipping...\n",
      "Processing record 18| paita\n",
      "City not found. Skipping...\n",
      "Processing record 19| saint-georges\n",
      "City not found. Skipping...\n",
      "Processing record 20| jamestown\n",
      "City not found. Skipping...\n",
      "Processing record 21| faanui\n",
      "City not found. Skipping...\n",
      "Processing record 22| longyearbyen\n",
      "City not found. Skipping...\n",
      "Processing record 23| zadar\n",
      "City not found. Skipping...\n",
      "Processing record 24| east london\n",
      "City not found. Skipping...\n",
      "Processing record 25| ushuaia\n",
      "City not found. Skipping...\n",
      "Processing record 26| buraydah\n",
      "City not found. Skipping...\n",
      "Processing record 27| cayenne\n",
      "City not found. Skipping...\n",
      "Processing record 28| nikolskoye\n",
      "City not found. Skipping...\n",
      "Processing record 29| nelson bay\n",
      "City not found. Skipping...\n",
      "Processing record 30| tecoanapa\n",
      "City not found. Skipping...\n",
      "Processing record 31| belmonte\n",
      "City not found. Skipping...\n",
      "Processing record 32| bonavista\n",
      "City not found. Skipping...\n",
      "Processing record 33| castro\n",
      "City not found. Skipping...\n",
      "Processing record 34| chokurdakh\n",
      "City not found. Skipping...\n",
      "Processing record 35| berlevag\n",
      "City not found. Skipping...\n",
      "Processing record 36| fengrun\n",
      "City not found. Skipping...\n",
      "Processing record 37| atambua\n",
      "City not found. Skipping...\n",
      "Processing record 38| marawi\n",
      "City not found. Skipping...\n",
      "Processing record 39| marzuq\n",
      "City not found. Skipping...\n",
      "Processing record 40| sao domingos\n",
      "City not found. Skipping...\n",
      "Processing record 41| saint-philippe\n",
      "City not found. Skipping...\n",
      "Processing record 42| itarema\n",
      "City not found. Skipping...\n",
      "Processing record 43| caranavi\n",
      "City not found. Skipping...\n",
      "Processing record 44| port alfred\n",
      "City not found. Skipping...\n",
      "Processing record 45| canutama\n",
      "City not found. Skipping...\n",
      "Processing record 46| ust-ilimsk\n",
      "City not found. Skipping...\n",
      "Processing record 47| bluff\n",
      "City not found. Skipping...\n",
      "Processing record 48| saint-augustin\n",
      "City not found. Skipping...\n",
      "Processing record 49| vaini\n",
      "City not found. Skipping...\n",
      "Processing record 50| mar del plata\n",
      "City not found. Skipping...\n",
      "Processing record 51| pascagoula\n",
      "City not found. Skipping...\n",
      "Processing record 52| tuktoyaktuk\n",
      "City not found. Skipping...\n",
      "Processing record 53| ewa beach\n",
      "City not found. Skipping...\n",
      "Processing record 54| barrow\n",
      "City not found. Skipping...\n",
      "Processing record 55| provideniya\n",
      "City not found. Skipping...\n",
      "Processing record 56| hobart\n",
      "City not found. Skipping...\n",
      "Processing record 57| lovington\n",
      "City not found. Skipping...\n",
      "Processing record 58| codrington\n",
      "City not found. Skipping...\n",
      "Processing record 59| nouadhibou\n",
      "City not found. Skipping...\n",
      "Processing record 60| iquique\n",
      "City not found. Skipping...\n",
      "Processing record 61| iqaluit\n",
      "City not found. Skipping...\n",
      "Processing record 62| geraldton\n",
      "City not found. Skipping...\n",
      "Processing record 63| yuzawa\n",
      "City not found. Skipping...\n",
      "Processing record 64| ambilobe\n",
      "City not found. Skipping...\n",
      "Processing record 65| hasaki\n",
      "City not found. Skipping...\n",
      "Processing record 66| kapaa\n",
      "City not found. Skipping...\n",
      "Processing record 67| hermanus\n",
      "City not found. Skipping...\n",
      "Processing record 68| zaozerne\n",
      "City not found. Skipping...\n",
      "Processing record 69| necochea\n",
      "City not found. Skipping...\n",
      "Processing record 70| grand-santi\n",
      "City not found. Skipping...\n",
      "Processing record 71| nuuk\n",
      "City not found. Skipping...\n",
      "Processing record 72| punta arenas\n",
      "City not found. Skipping...\n",
      "Processing record 73| acapulco\n",
      "City not found. Skipping...\n",
      "Processing record 74| mataura\n",
      "City not found. Skipping...\n",
      "Processing record 75| khani\n",
      "City not found. Skipping...\n",
      "Processing record 76| egvekinot\n",
      "City not found. Skipping...\n",
      "Processing record 77| puerto escondido\n",
      "City not found. Skipping...\n",
      "Processing record 78| busselton\n",
      "City not found. Skipping...\n",
      "Processing record 79| cidreira\n",
      "City not found. Skipping...\n",
      "Processing record 80| kavaratti\n",
      "City not found. Skipping...\n",
      "Processing record 81| taolanaro\n",
      "City not found. Skipping...\n",
      "Processing record 82| souillac\n",
      "City not found. Skipping...\n",
      "Processing record 83| stavern\n",
      "City not found. Skipping...\n",
      "Processing record 84| chapais\n",
      "City not found. Skipping...\n",
      "Processing record 85| seoul\n",
      "City not found. Skipping...\n",
      "Processing record 86| torbay\n",
      "City not found. Skipping...\n",
      "Processing record 87| vardo\n",
      "City not found. Skipping...\n",
      "Processing record 88| vostok\n",
      "City not found. Skipping...\n",
      "Processing record 89| green river\n",
      "City not found. Skipping...\n",
      "Processing record 90| butaritari\n",
      "City not found. Skipping...\n",
      "Processing record 91| richards bay\n",
      "City not found. Skipping...\n",
      "Processing record 92| nizhneyansk\n",
      "City not found. Skipping...\n",
      "Processing record 93| the valley\n",
      "City not found. Skipping...\n",
      "Processing record 94| saskylakh\n",
      "City not found. Skipping...\n",
      "Processing record 95| lebu\n",
      "City not found. Skipping...\n",
      "Processing record 96| bilibino\n",
      "City not found. Skipping...\n",
      "Processing record 97| belushya guba\n",
      "City not found. Skipping...\n",
      "Processing record 98| llanes\n",
      "City not found. Skipping...\n",
      "Processing record 99| bredasdorp\n",
      "City not found. Skipping...\n",
      "Processing record 100| saint george\n",
      "City not found. Skipping...\n",
      "Processing record 101| orje\n",
      "City not found. Skipping...\n",
      "Processing record 102| illoqqortoormiut\n",
      "City not found. Skipping...\n",
      "Processing record 103| atuona\n",
      "City not found. Skipping...\n",
      "Processing record 104| touros\n",
      "City not found. Skipping...\n",
      "Processing record 105| padang\n",
      "City not found. Skipping...\n",
      "Processing record 106| rock springs\n",
      "City not found. Skipping...\n",
      "Processing record 107| xapuri\n",
      "City not found. Skipping...\n",
      "Processing record 108| lagoa\n",
      "City not found. Skipping...\n",
      "Processing record 109| barentsburg\n",
      "City not found. Skipping...\n",
      "Processing record 110| yomitan\n",
      "City not found. Skipping...\n",
      "Processing record 111| arteaga\n",
      "City not found. Skipping...\n",
      "Processing record 112| perth\n",
      "City not found. Skipping...\n",
      "Processing record 113| yaan\n",
      "City not found. Skipping...\n",
      "Processing record 114| chagda\n",
      "City not found. Skipping...\n",
      "Processing record 115| norman wells\n",
      "City not found. Skipping...\n",
      "Processing record 116| dikson\n",
      "City not found. Skipping...\n",
      "Processing record 117| barga\n",
      "City not found. Skipping...\n",
      "Processing record 118| luderitz\n",
      "City not found. Skipping...\n",
      "Processing record 119| karratha\n",
      "City not found. Skipping...\n",
      "Processing record 120| georgetown\n",
      "City not found. Skipping...\n",
      "Processing record 121| riyadh\n",
      "City not found. Skipping...\n",
      "Processing record 122| babu\n",
      "City not found. Skipping...\n",
      "Processing record 123| sao filipe\n",
      "City not found. Skipping...\n",
      "Processing record 124| ribeira grande\n",
      "City not found. Skipping...\n",
      "Processing record 125| victoria\n",
      "City not found. Skipping...\n",
      "Processing record 126| khatanga\n",
      "City not found. Skipping...\n",
      "Processing record 127| hofn\n",
      "City not found. Skipping...\n",
      "Processing record 128| hithadhoo\n",
      "City not found. Skipping...\n",
      "Processing record 129| saint paul\n",
      "City not found. Skipping...\n",
      "Processing record 130| dujuma\n",
      "City not found. Skipping...\n",
      "Processing record 131| miramar\n",
      "City not found. Skipping...\n",
      "Processing record 132| puerto ayora\n",
      "City not found. Skipping...\n",
      "Processing record 133| fort smith\n",
      "City not found. Skipping...\n",
      "Processing record 134| mahebourg\n",
      "City not found. Skipping...\n",
      "Processing record 135| qui nhon\n",
      "City not found. Skipping...\n",
      "Processing record 136| laguna\n",
      "City not found. Skipping...\n",
      "Processing record 137| north bend\n",
      "City not found. Skipping...\n",
      "Processing record 138| leningradskiy\n",
      "City not found. Skipping...\n",
      "Processing record 139| avarua\n",
      "City not found. Skipping...\n",
      "Processing record 140| yellowknife\n",
      "City not found. Skipping...\n",
      "Processing record 141| ca mau\n",
      "City not found. Skipping...\n",
      "Processing record 142| airai\n",
      "City not found. Skipping...\n",
      "Processing record 143| oranjestad\n",
      "City not found. Skipping...\n",
      "Processing record 144| thompson\n",
      "City not found. Skipping...\n",
      "Processing record 145| saint stephen\n",
      "City not found. Skipping...\n",
      "Processing record 146| saint-pierre\n",
      "City not found. Skipping...\n",
      "Processing record 147| brae\n",
      "City not found. Skipping...\n",
      "Processing record 148| port blair\n",
      "City not found. Skipping...\n",
      "Processing record 149| farkhor\n",
      "City not found. Skipping...\n",
      "Processing record 150| guaymas\n",
      "City not found. Skipping...\n",
      "Processing record 151| grand river south east\n"
     ]
    }
   ],
   "source": [
    "#set counts for printing of records\n",
    "count = 1\n",
    "\n",
    "#create loop for data to generate dataframe\n",
    "print(\"------------------------------\\nBegin Data Retrieval\\n------------------------------\")\n",
    "for city in cities:\n",
    "    print(f\"Processing record {count}| {city}\")\n",
    "    try:\n",
    "        response = requests.get(url + city.replace(\" \",\"&\")).json()\n",
    "        lat.append(response['coord']['lat'])\n",
    "        lon.append(response['coord']['lon'])\n",
    "        max_temp.append(response['main']['temp_max'])\n",
    "        humidity.append(response['main']['humidity'])\n",
    "        cloudiness.append(response['clouds']['all'])\n",
    "        wind_speed.append(response['wind']['speed'])\n",
    "        country.append(response['sys']['country'])\n",
    "        date.append(response['dt'])\n",
    "    except:\n",
    "        print(\"City not found. Skipping...\")\n",
    "    count +=1\n",
    "print(\"------------------------------\\nRetrieval of Data: Completed\\n------------------------------\")"
   ]
  },
  {
   "cell_type": "markdown",
   "metadata": {
    "deletable": true,
    "editable": true
   },
   "source": [
    "### Convert Raw Data to DataFrame\n",
    "* Export the city data into a .csv.\n",
    "* Display the DataFrame"
   ]
  },
  {
   "cell_type": "code",
   "execution_count": null,
   "metadata": {
    "collapsed": false,
    "deletable": true,
    "editable": true
   },
   "outputs": [],
   "source": []
  },
  {
   "cell_type": "code",
   "execution_count": null,
   "metadata": {
    "collapsed": false,
    "deletable": true,
    "editable": true
   },
   "outputs": [],
   "source": []
  },
  {
   "cell_type": "markdown",
   "metadata": {
    "deletable": true,
    "editable": true
   },
   "source": [
    "## Inspect the data and remove the cities where the humidity > 100%.\n",
    "----\n",
    "Skip this step if there are no cities that have humidity > 100%. "
   ]
  },
  {
   "cell_type": "code",
   "execution_count": null,
   "metadata": {
    "collapsed": false,
    "deletable": true,
    "editable": true
   },
   "outputs": [],
   "source": []
  },
  {
   "cell_type": "code",
   "execution_count": null,
   "metadata": {
    "collapsed": false,
    "deletable": true,
    "editable": true
   },
   "outputs": [],
   "source": [
    "#  Get the indices of cities that have humidity over 100%.\n"
   ]
  },
  {
   "cell_type": "code",
   "execution_count": null,
   "metadata": {
    "collapsed": false,
    "deletable": true,
    "editable": true
   },
   "outputs": [],
   "source": [
    "# Make a new DataFrame equal to the city data to drop all humidity outliers by index.\n",
    "# Passing \"inplace=False\" will make a copy of the city_data DataFrame, which we call \"clean_city_data\".\n"
   ]
  },
  {
   "cell_type": "code",
   "execution_count": null,
   "metadata": {
    "collapsed": true,
    "deletable": true,
    "editable": true
   },
   "outputs": [],
   "source": [
    "\n"
   ]
  },
  {
   "cell_type": "markdown",
   "metadata": {
    "deletable": true,
    "editable": true
   },
   "source": [
    "## Plotting the Data\n",
    "* Use proper labeling of the plots using plot titles (including date of analysis) and axes labels.\n",
    "* Save the plotted figures as .pngs."
   ]
  },
  {
   "cell_type": "markdown",
   "metadata": {
    "deletable": true,
    "editable": true
   },
   "source": [
    "## Latitude vs. Temperature Plot"
   ]
  },
  {
   "cell_type": "code",
   "execution_count": null,
   "metadata": {
    "collapsed": false,
    "deletable": true,
    "editable": true,
    "scrolled": true
   },
   "outputs": [],
   "source": []
  },
  {
   "cell_type": "markdown",
   "metadata": {
    "deletable": true,
    "editable": true
   },
   "source": [
    "## Latitude vs. Humidity Plot"
   ]
  },
  {
   "cell_type": "code",
   "execution_count": null,
   "metadata": {
    "collapsed": false,
    "deletable": true,
    "editable": true
   },
   "outputs": [],
   "source": []
  },
  {
   "cell_type": "markdown",
   "metadata": {
    "deletable": true,
    "editable": true
   },
   "source": [
    "## Latitude vs. Cloudiness Plot"
   ]
  },
  {
   "cell_type": "code",
   "execution_count": null,
   "metadata": {
    "collapsed": false,
    "deletable": true,
    "editable": true
   },
   "outputs": [],
   "source": []
  },
  {
   "cell_type": "markdown",
   "metadata": {
    "deletable": true,
    "editable": true
   },
   "source": [
    "## Latitude vs. Wind Speed Plot"
   ]
  },
  {
   "cell_type": "code",
   "execution_count": null,
   "metadata": {
    "collapsed": false,
    "deletable": true,
    "editable": true
   },
   "outputs": [],
   "source": []
  },
  {
   "cell_type": "markdown",
   "metadata": {
    "deletable": true,
    "editable": true
   },
   "source": [
    "## Linear Regression"
   ]
  },
  {
   "cell_type": "code",
   "execution_count": null,
   "metadata": {
    "collapsed": true,
    "deletable": true,
    "editable": true
   },
   "outputs": [],
   "source": []
  },
  {
   "cell_type": "markdown",
   "metadata": {
    "deletable": true,
    "editable": true
   },
   "source": [
    "####  Northern Hemisphere - Max Temp vs. Latitude Linear Regression"
   ]
  },
  {
   "cell_type": "code",
   "execution_count": null,
   "metadata": {
    "collapsed": false,
    "deletable": true,
    "editable": true
   },
   "outputs": [],
   "source": []
  },
  {
   "cell_type": "markdown",
   "metadata": {
    "deletable": true,
    "editable": true
   },
   "source": [
    "####  Southern Hemisphere - Max Temp vs. Latitude Linear Regression"
   ]
  },
  {
   "cell_type": "code",
   "execution_count": null,
   "metadata": {
    "collapsed": false,
    "deletable": true,
    "editable": true
   },
   "outputs": [],
   "source": []
  },
  {
   "cell_type": "markdown",
   "metadata": {
    "deletable": true,
    "editable": true
   },
   "source": [
    "####  Northern Hemisphere - Humidity (%) vs. Latitude Linear Regression"
   ]
  },
  {
   "cell_type": "code",
   "execution_count": null,
   "metadata": {
    "collapsed": false,
    "deletable": true,
    "editable": true
   },
   "outputs": [],
   "source": []
  },
  {
   "cell_type": "markdown",
   "metadata": {
    "deletable": true,
    "editable": true
   },
   "source": [
    "####  Southern Hemisphere - Humidity (%) vs. Latitude Linear Regression"
   ]
  },
  {
   "cell_type": "code",
   "execution_count": null,
   "metadata": {
    "collapsed": false,
    "deletable": true,
    "editable": true
   },
   "outputs": [],
   "source": []
  },
  {
   "cell_type": "markdown",
   "metadata": {
    "deletable": true,
    "editable": true
   },
   "source": [
    "####  Northern Hemisphere - Cloudiness (%) vs. Latitude Linear Regression"
   ]
  },
  {
   "cell_type": "code",
   "execution_count": null,
   "metadata": {
    "collapsed": false,
    "deletable": true,
    "editable": true
   },
   "outputs": [],
   "source": []
  },
  {
   "cell_type": "markdown",
   "metadata": {
    "deletable": true,
    "editable": true
   },
   "source": [
    "####  Southern Hemisphere - Cloudiness (%) vs. Latitude Linear Regression"
   ]
  },
  {
   "cell_type": "code",
   "execution_count": null,
   "metadata": {
    "collapsed": false,
    "deletable": true,
    "editable": true
   },
   "outputs": [],
   "source": []
  },
  {
   "cell_type": "markdown",
   "metadata": {
    "deletable": true,
    "editable": true
   },
   "source": [
    "####  Northern Hemisphere - Wind Speed (mph) vs. Latitude Linear Regression"
   ]
  },
  {
   "cell_type": "code",
   "execution_count": null,
   "metadata": {
    "collapsed": false,
    "deletable": true,
    "editable": true
   },
   "outputs": [],
   "source": []
  },
  {
   "cell_type": "markdown",
   "metadata": {
    "deletable": true,
    "editable": true
   },
   "source": [
    "####  Southern Hemisphere - Wind Speed (mph) vs. Latitude Linear Regression"
   ]
  },
  {
   "cell_type": "code",
   "execution_count": null,
   "metadata": {
    "collapsed": false,
    "deletable": true,
    "editable": true
   },
   "outputs": [],
   "source": []
  },
  {
   "cell_type": "code",
   "execution_count": null,
   "metadata": {
    "collapsed": true,
    "deletable": true,
    "editable": true
   },
   "outputs": [],
   "source": []
  }
 ],
 "metadata": {
  "anaconda-cloud": {},
  "kernel_info": {
   "name": "python3"
  },
  "kernelspec": {
   "display_name": "PythonData",
   "language": "python",
   "name": "pythondata"
  },
  "latex_envs": {
   "LaTeX_envs_menu_present": true,
   "autoclose": false,
   "autocomplete": true,
   "bibliofile": "biblio.bib",
   "cite_by": "apalike",
   "current_citInitial": 1,
   "eqLabelWithNumbers": true,
   "eqNumInitial": 1,
   "hotkeys": {
    "equation": "Ctrl-E",
    "itemize": "Ctrl-I"
   },
   "labels_anchors": false,
   "latex_user_defs": false,
   "report_style_numbering": false,
   "user_envs_cfg": false
  },
  "nteract": {
   "version": "0.12.3"
  }
 },
 "nbformat": 4,
 "nbformat_minor": 2
}
